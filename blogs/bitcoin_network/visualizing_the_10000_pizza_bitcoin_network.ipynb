{
 "cells": [
  {
   "cell_type": "markdown",
   "metadata": {},
   "source": [
    "# 10,000 bitcoin network"
   ]
  },
  {
   "cell_type": "markdown",
   "metadata": {
    "_cell_guid": "2bc686a7-b88e-47df-87c0-7ede5228de7d",
    "_uuid": "5ea65d91354243522fcc1dd32dff74059585a461",
    "colab_type": "text",
    "id": "MltpTOiJWElZ"
   },
   "source": [
    "This lab will dig into the fates of the bitcoin transactions tied to [the infamous 10,000 bitcoin pizza](https://en.bitcoin.it/wiki/Laszlo_Hanyecz).  \n",
    "\n",
    "This code is based on [code originally written](https://gist.github.com/allenday/1207a2c0b962d65b101d1e753ebc1c52) by [Allen Day](https://twitter.com/allenday) and modified by Sohien Dane and Meg Risdal from these Kaggle kernels (parts [1](https://www.kaggle.com/sohier/tracing-the-10-000-btc-pizza/), [2](https://www.kaggle.com/sohier/pizza-btc-post-processing/), [3](https://www.kaggle.com/mrisdal/visualizing-the-10k-btc-pizza-transaction-network)). It will be used to visualize a directed graph representing Bitcoin transactions that follow the first known exchange of Bitcoin for goods on May 17, 2010 made by [Laszlo Hanyecz](https://en.bitcoin.it/wiki/Laszlo_Hanyecz).\n",
    "\n",
    "In this lab, we will:\n",
    "1. Retrieve as many transactions as possible from BigQuery within 2 degrees of separation from the pizza exchange. The query is overly-greedy so that we can ensure the number of table scans equals the degrees of separation. Because of that we need to...\n",
    "- Post-process on the transactions to remove excess transactions from step 1\n",
    "- Visualize the directed graph."
   ]
  },
  {
   "cell_type": "code",
   "execution_count": 1,
   "metadata": {
    "_cell_guid": "ca5fcfed-8ce8-4d1e-980f-b4a80dd38506",
    "_uuid": "4a5fd2b7aeca617d446b13f8a20259cfd1a509f1",
    "colab": {},
    "colab_type": "code",
    "id": "mDQ7MseOWEla"
   },
   "outputs": [],
   "source": [
    "import pandas as pd\n",
    "from google.cloud import bigquery"
   ]
  },
  {
   "cell_type": "code",
   "execution_count": 2,
   "metadata": {
    "colab": {},
    "colab_type": "code",
    "id": "OyGBvsncWPSf"
   },
   "outputs": [],
   "source": [
    "bq = bigquery.Client(project='alexhanna-dev')"
   ]
  },
  {
   "cell_type": "code",
   "execution_count": 3,
   "metadata": {
    "_cell_guid": "2bc6ebe7-5204-4a8c-b012-ad1a59152f21",
    "_uuid": "33b04a30030d7f54b6516520cbff7233a061457f",
    "colab": {},
    "colab_type": "code",
    "id": "mb9jd8JdWElk"
   },
   "outputs": [],
   "source": [
    "QUERY_TEMPLATE = \"\"\"\n",
    "SELECT\n",
    "    timestamp,\n",
    "    inputs.input_pubkey_base58 AS input_key,\n",
    "    outputs.output_pubkey_base58 AS output_key,\n",
    "    outputs.output_satoshis as satoshis\n",
    "FROM `bigquery-public-data.bitcoin_blockchain.transactions`\n",
    "    JOIN UNNEST (inputs) AS inputs\n",
    "    JOIN UNNEST (outputs) AS outputs\n",
    "WHERE inputs.input_pubkey_base58 IN UNNEST({0})\n",
    "    AND outputs.output_satoshis  >= {1}\n",
    "    AND inputs.input_pubkey_base58 IS NOT NULL\n",
    "    AND outputs.output_pubkey_base58 IS NOT NULL\n",
    "GROUP BY timestamp, input_key, output_key, satoshis\n",
    "\"\"\""
   ]
  },
  {
   "cell_type": "code",
   "execution_count": 4,
   "metadata": {
    "_cell_guid": "1a52cd18-b61f-496d-a603-c141efb22d52",
    "_uuid": "17c51677541ecf871546e8372788e25fcd754367",
    "colab": {},
    "colab_type": "code",
    "id": "ayUULPBpWEln"
   },
   "outputs": [],
   "source": [
    "def trace_transactions(target_depth, seeds, min_satoshi_per_transaction):\n",
    "    \"\"\"\n",
    "    Trace transactions associated with a given bitcoin key.\n",
    "\n",
    "    To limit the number of BigQuery calls, this function ignores time. \n",
    "    If you care about the order of transactions, you'll need to do post-processing.\n",
    "\n",
    "    May return a deeper graph than the `target_depth` if there are repeated transactions\n",
    "    from wallet a to b or or self transactions (a -> a).\n",
    "    \"\"\"\n",
    "    MAX_SEEDS_PER_QUERY = 500\n",
    "    query = QUERY_TEMPLATE.format(seeds, min_satoshi_per_transaction)\n",
    "    #print(f'Estimated total query size: {int(bq_assist.estimate_query_size(query)) * MAX_DEPTH}')\n",
    "    results = []\n",
    "    seeds_scanned = set()\n",
    "    for i in range(target_depth):\n",
    "        seeds = seeds[:MAX_SEEDS_PER_QUERY]\n",
    "        print(\"Now scanning {} seeds\".format(len(seeds)))\n",
    "        query = QUERY_TEMPLATE.format(seeds, min_satoshi_per_transaction)\n",
    "        transactions = bq.query(query).to_dataframe()\n",
    "        results.append(transactions)\n",
    "        # limit query kb by dropping any duplicated seeds\n",
    "        seeds_scanned.update(seeds)\n",
    "        seeds = list(set(transactions.output_key.unique()).difference(seeds_scanned))\n",
    "    return pd.concat(results).drop_duplicates()"
   ]
  },
  {
   "cell_type": "code",
   "execution_count": 49,
   "metadata": {
    "_cell_guid": "403ed9ca-f824-4551-af85-3774c7def266",
    "_uuid": "8a6ee901307f19dd19ef1648454045c1ddb68a63",
    "colab": {},
    "colab_type": "code",
    "id": "u10HhdaOWElp"
   },
   "outputs": [],
   "source": [
    "MAX_DEPTH = 2\n",
    "BASE_SEEDS = ['1XPTgDRhN8RFnzniWCddobD9iKZatrvH4']\n",
    "SATOSHI_PER_BTC = 10**7"
   ]
  },
  {
   "cell_type": "code",
   "execution_count": 50,
   "metadata": {
    "_cell_guid": "3a019b6f-ff2e-43b1-83d7-48600142cb8d",
    "_uuid": "0d90130de3093467491ba8f626669cecd3a02954",
    "colab": {
     "base_uri": "https://localhost:8080/",
     "height": 85
    },
    "colab_type": "code",
    "id": "hNFjB4PKWEls",
    "outputId": "edb87888-8fc3-4778-da73-8882321b7f34",
    "scrolled": false
   },
   "outputs": [
    {
     "name": "stdout",
     "output_type": "stream",
     "text": [
      "Now scanning 1 seeds\n",
      "Now scanning 27 seeds\n"
     ]
    }
   ],
   "source": [
    "df = trace_transactions(MAX_DEPTH, BASE_SEEDS, 0)"
   ]
  },
  {
   "cell_type": "code",
   "execution_count": 51,
   "metadata": {
    "colab": {
     "base_uri": "https://localhost:8080/",
     "height": 34
    },
    "colab_type": "code",
    "id": "59W92jYcXnvC",
    "outputId": "454438bf-5600-4757-fb53-e5d519a7e5b2"
   },
   "outputs": [
    {
     "data": {
      "text/plain": [
       "752"
      ]
     },
     "execution_count": 51,
     "metadata": {},
     "output_type": "execute_result"
    }
   ],
   "source": [
    "df.size"
   ]
  },
  {
   "cell_type": "markdown",
   "metadata": {
    "colab_type": "text",
    "id": "rllUlcOPXonf"
   },
   "source": [
    "## Post-processing datas pull from BigQuery\n",
    "\n",
    "This stage handles the post-processing of data pulled from BigQuery in step 1. At the end, we'll have a graph of transactions for plotting in R."
   ]
  },
  {
   "cell_type": "code",
   "execution_count": 52,
   "metadata": {
    "_cell_guid": "820a1235-5fa5-4535-9c4e-810e533a1f5a",
    "_uuid": "b0872bdc1aeab46411f5d8f5b521f561366d499d",
    "colab": {},
    "colab_type": "code",
    "id": "yLYGfeAkWEl5"
   },
   "outputs": [],
   "source": [
    "df['date_time'] = pd.to_datetime(df.timestamp * 1000000)"
   ]
  },
  {
   "cell_type": "code",
   "execution_count": 53,
   "metadata": {
    "_cell_guid": "d3168205-f35f-4810-ac3f-0c44608f7e5e",
    "_uuid": "9b461bcc84a985dc148e4f5a0e9880772c4a7922",
    "colab": {
     "base_uri": "https://localhost:8080/",
     "height": 213
    },
    "colab_type": "code",
    "id": "LeQvJzP8WEl7",
    "outputId": "bf84602b-ac9e-4aa3-ec4c-bde4112d2fd6"
   },
   "outputs": [
    {
     "data": {
      "text/html": [
       "<div>\n",
       "<style scoped>\n",
       "    .dataframe tbody tr th:only-of-type {\n",
       "        vertical-align: middle;\n",
       "    }\n",
       "\n",
       "    .dataframe tbody tr th {\n",
       "        vertical-align: top;\n",
       "    }\n",
       "\n",
       "    .dataframe thead th {\n",
       "        text-align: right;\n",
       "    }\n",
       "</style>\n",
       "<table border=\"1\" class=\"dataframe\">\n",
       "  <thead>\n",
       "    <tr style=\"text-align: right;\">\n",
       "      <th></th>\n",
       "      <th>timestamp</th>\n",
       "      <th>input_key</th>\n",
       "      <th>output_key</th>\n",
       "      <th>satoshis</th>\n",
       "      <th>date_time</th>\n",
       "    </tr>\n",
       "  </thead>\n",
       "  <tbody>\n",
       "    <tr>\n",
       "      <th>0</th>\n",
       "      <td>1273862997000</td>\n",
       "      <td>1XPTgDRhN8RFnzniWCddobD9iKZatrvH4</td>\n",
       "      <td>176cvG1hj4NzhKgg3wBvNfGuuoLDYkhJ6J</td>\n",
       "      <td>2356000000</td>\n",
       "      <td>2010-05-14 18:49:57</td>\n",
       "    </tr>\n",
       "    <tr>\n",
       "      <th>1</th>\n",
       "      <td>1281069800000</td>\n",
       "      <td>1XPTgDRhN8RFnzniWCddobD9iKZatrvH4</td>\n",
       "      <td>1CQDMQ5HDY2gVoV17H5fptsbzTA6qxwbjT</td>\n",
       "      <td>156800000000</td>\n",
       "      <td>2010-08-06 04:43:20</td>\n",
       "    </tr>\n",
       "    <tr>\n",
       "      <th>2</th>\n",
       "      <td>1273901908000</td>\n",
       "      <td>1XPTgDRhN8RFnzniWCddobD9iKZatrvH4</td>\n",
       "      <td>157fRrqAKrDyGHr1Bx3yDxeMv8Rh45aUet</td>\n",
       "      <td>1200000000</td>\n",
       "      <td>2010-05-15 05:38:28</td>\n",
       "    </tr>\n",
       "  </tbody>\n",
       "</table>\n",
       "</div>"
      ],
      "text/plain": [
       "       timestamp                          input_key  \\\n",
       "0  1273862997000  1XPTgDRhN8RFnzniWCddobD9iKZatrvH4   \n",
       "1  1281069800000  1XPTgDRhN8RFnzniWCddobD9iKZatrvH4   \n",
       "2  1273901908000  1XPTgDRhN8RFnzniWCddobD9iKZatrvH4   \n",
       "\n",
       "                           output_key      satoshis           date_time  \n",
       "0  176cvG1hj4NzhKgg3wBvNfGuuoLDYkhJ6J    2356000000 2010-05-14 18:49:57  \n",
       "1  1CQDMQ5HDY2gVoV17H5fptsbzTA6qxwbjT  156800000000 2010-08-06 04:43:20  \n",
       "2  157fRrqAKrDyGHr1Bx3yDxeMv8Rh45aUet    1200000000 2010-05-15 05:38:28  "
      ]
     },
     "execution_count": 53,
     "metadata": {},
     "output_type": "execute_result"
    }
   ],
   "source": [
    "df.head(3)"
   ]
  },
  {
   "cell_type": "code",
   "execution_count": 88,
   "metadata": {},
   "outputs": [],
   "source": [
    "df.to_csv('transactions.csv')"
   ]
  },
  {
   "cell_type": "code",
   "execution_count": 27,
   "metadata": {
    "colab": {},
    "colab_type": "code",
    "id": "3jknaijLYBBs"
   },
   "outputs": [],
   "source": [
    "def dig_row(row, seeds, min_satoshis, trace_from_key):\n",
    "    if row['satoshis'] < min_satoshis:\n",
    "        return None\n",
    "    if trace_from_key and row['input_key'] not in seeds:\n",
    "        return None\n",
    "    elif not trace_from_key and row['output_key'] not in seeds:\n",
    "        return None\n",
    "    seeds.add(row['output_key'])\n",
    "    return row\n",
    "\n",
    "def single_pass_dig(initial_seeds, input_df, initial_datetime=None, min_satoshis=0, trace_from_key=True):\n",
    "    df = input_df.copy()\n",
    "    active_seeds = set(initial_seeds)\n",
    "    if trace_from_key and initial_datetime is not None:\n",
    "        df = df[df['date_time'] >= initial_datetime]\n",
    "    elif not(trace_from_key) and initial_datetime is not None:\n",
    "        df = df[df['date_time'] <= initial_datetime]\n",
    "    df.sort_values(by=['timestamp'], ascending=trace_from_key, inplace=True)\n",
    "    transactions = []\n",
    "    for index, row in df.iterrows():\n",
    "        rv = dig_row(row, active_seeds, min_satoshis, trace_from_key)\n",
    "        if rv is not None:\n",
    "            transactions.append(rv)\n",
    "    return pd.DataFrame(transactions)"
   ]
  },
  {
   "cell_type": "code",
   "execution_count": 85,
   "metadata": {
    "colab": {},
    "colab_type": "code",
    "id": "IIPPPCjgYBc6"
   },
   "outputs": [],
   "source": [
    "future_transactions = single_pass_dig(BASE_SEEDS, df, \n",
    "                                      initial_datetime=pd.to_datetime(\"May 16, 2010\"))"
   ]
  },
  {
   "cell_type": "code",
   "execution_count": 55,
   "metadata": {
    "colab": {
     "base_uri": "https://localhost:8080/",
     "height": 142
    },
    "colab_type": "code",
    "id": "lH5zkoToYGUs",
    "outputId": "466305b1-a77d-4972-89cf-01874120aa55"
   },
   "outputs": [
    {
     "data": {
      "text/html": [
       "<div>\n",
       "<style scoped>\n",
       "    .dataframe tbody tr th:only-of-type {\n",
       "        vertical-align: middle;\n",
       "    }\n",
       "\n",
       "    .dataframe tbody tr th {\n",
       "        vertical-align: top;\n",
       "    }\n",
       "\n",
       "    .dataframe thead th {\n",
       "        text-align: right;\n",
       "    }\n",
       "</style>\n",
       "<table border=\"1\" class=\"dataframe\">\n",
       "  <thead>\n",
       "    <tr style=\"text-align: right;\">\n",
       "      <th></th>\n",
       "      <th>input_key</th>\n",
       "      <th>output_key</th>\n",
       "      <th>satoshis</th>\n",
       "    </tr>\n",
       "  </thead>\n",
       "  <tbody>\n",
       "    <tr>\n",
       "      <th>0</th>\n",
       "      <td>12hEZssdWGLS8UsavJzYAUgxiXLA4x4bu7</td>\n",
       "      <td>1GAnVbQpkT2CFm9RAu13R22g5A9MXPR6vG</td>\n",
       "      <td>104687000000</td>\n",
       "    </tr>\n",
       "    <tr>\n",
       "      <th>1</th>\n",
       "      <td>13gWLbMdqyftxUw7mvtn4FQdGaAAWkErgF</td>\n",
       "      <td>1GAnVbQpkT2CFm9RAu13R22g5A9MXPR6vG</td>\n",
       "      <td>104687000000</td>\n",
       "    </tr>\n",
       "    <tr>\n",
       "      <th>2</th>\n",
       "      <td>13pVVjBntbheW93GNCWKA1ZMdbQrRopNsp</td>\n",
       "      <td>1GAnVbQpkT2CFm9RAu13R22g5A9MXPR6vG</td>\n",
       "      <td>104687000000</td>\n",
       "    </tr>\n",
       "  </tbody>\n",
       "</table>\n",
       "</div>"
      ],
      "text/plain": [
       "                            input_key                          output_key  \\\n",
       "0  12hEZssdWGLS8UsavJzYAUgxiXLA4x4bu7  1GAnVbQpkT2CFm9RAu13R22g5A9MXPR6vG   \n",
       "1  13gWLbMdqyftxUw7mvtn4FQdGaAAWkErgF  1GAnVbQpkT2CFm9RAu13R22g5A9MXPR6vG   \n",
       "2  13pVVjBntbheW93GNCWKA1ZMdbQrRopNsp  1GAnVbQpkT2CFm9RAu13R22g5A9MXPR6vG   \n",
       "\n",
       "       satoshis  \n",
       "0  104687000000  \n",
       "1  104687000000  \n",
       "2  104687000000  "
      ]
     },
     "execution_count": 55,
     "metadata": {},
     "output_type": "execute_result"
    }
   ],
   "source": [
    "total_flows = future_transactions[['input_key', 'output_key', 'satoshis']].groupby(\n",
    "    by=['input_key', 'output_key']).sum().reset_index()\n",
    "total_flows.head(3)"
   ]
  },
  {
   "cell_type": "code",
   "execution_count": 56,
   "metadata": {
    "colab": {
     "base_uri": "https://localhost:8080/",
     "height": 153
    },
    "colab_type": "code",
    "id": "JCPpbTDTYLkA",
    "outputId": "df77ce7c-79f1-44a4-c80c-aae0558d2ede"
   },
   "outputs": [
    {
     "name": "stdout",
     "output_type": "stream",
     "text": [
      "<class 'pandas.core.frame.DataFrame'>\n",
      "RangeIndex: 106 entries, 0 to 105\n",
      "Data columns (total 3 columns):\n",
      "input_key     106 non-null object\n",
      "output_key    106 non-null object\n",
      "satoshis      106 non-null int64\n",
      "dtypes: int64(1), object(2)\n",
      "memory usage: 2.6+ KB\n"
     ]
    }
   ],
   "source": [
    "total_flows.info()"
   ]
  },
  {
   "cell_type": "code",
   "execution_count": 87,
   "metadata": {},
   "outputs": [],
   "source": [
    "total_flows.to_csv('total_flows.csv')"
   ]
  },
  {
   "cell_type": "markdown",
   "metadata": {
    "colab_type": "text",
    "id": "Oj8ljBxrYP4r"
   },
   "source": [
    "## Visualizing the network\n",
    "\n",
    "This code visualizes a directed graph representing Bitcoin transactions that follow Hanyecz's pizza buying transaction.\n",
    "\n",
    "The figure generated here is similar to the one used in the \"[Bitcoin in BigQuery: Blockchain Analytics on Public Data](https://cloud.google.com/blog/products/gcp/bitcoin-in-bigquery-blockchain-analytics-on-public-data)\" blog post by Allen Day and Colin Bookman. "
   ]
  },
  {
   "cell_type": "code",
   "execution_count": 57,
   "metadata": {
    "colab": {},
    "colab_type": "code",
    "id": "emV8Bn6oYSie"
   },
   "outputs": [],
   "source": [
    "## purchase address\n",
    "hanyecz = \"1XPTgDRhN8RFnzniWCddobD9iKZatrvH4\""
   ]
  },
  {
   "cell_type": "markdown",
   "metadata": {
    "colab_type": "text",
    "id": "xaPcjyCEYqU8"
   },
   "source": [
    "We use the library `networkx` below to visualize a network of transactions following the pizza purchase by up to 2 degrees (As noted here, our code may return a deeper graph than the target depth if there are repeated transactions from wallet a to b or or self transactions (a -> a)).\n",
    "\n",
    "Hanyecz's payment address is depicted as a red circle while other addresses are blue circles. Arrowheads indicate direction of Bitcoin flow following the pizza purchase transaction. Stroke width is approximately proportional to the amount of Bitcoin moving between addresses."
   ]
  },
  {
   "cell_type": "code",
   "execution_count": 58,
   "metadata": {
    "colab": {
     "base_uri": "https://localhost:8080/",
     "height": 232
    },
    "colab_type": "code",
    "id": "WKnO_VjZYtn_",
    "outputId": "d80a19f0-2bd3-4c99-9e89-84e06b7bb762"
   },
   "outputs": [],
   "source": [
    "import networkx as nx\n",
    "import matplotlib.pyplot as plt"
   ]
  },
  {
   "cell_type": "code",
   "execution_count": 60,
   "metadata": {
    "colab": {
     "base_uri": "https://localhost:8080/",
     "height": 232
    },
    "colab_type": "code",
    "id": "WKnO_VjZYtn_",
    "outputId": "d80a19f0-2bd3-4c99-9e89-84e06b7bb762"
   },
   "outputs": [],
   "source": [
    "graph = nx.from_pandas_edgelist(total_flows,\n",
    "  source = \"input_key\",\n",
    "  target = \"output_key\",\n",
    "  create_using = nx.DiGraph())\n",
    "pos = nx.kamada_kawai_layout(graph)"
   ]
  },
  {
   "cell_type": "code",
   "execution_count": 101,
   "metadata": {},
   "outputs": [],
   "source": [
    "## color the hanyecz red and the rest of the nodes blue\n",
    "node_colors = list(map(lambda x: \"red\" if x == hanyecz else \"blue\", graph.nodes))"
   ]
  },
  {
   "cell_type": "code",
   "execution_count": 102,
   "metadata": {},
   "outputs": [],
   "source": [
    "## calculate width based on satoshis\n",
    "satoshi_stats = total_flows.describe()['satoshis']\n",
    "def get_width(x, stats):\n",
    "    if x < stats['25%']:\n",
    "        return 1\n",
    "    elif x >= stats['25%'] and x < stats['50%']:\n",
    "        return 2\n",
    "    elif x >= stats['50%'] and x < stats['75%']:\n",
    "        return 3\n",
    "    else:\n",
    "        return 4\n",
    "edge_widths = total_flows['satoshis'].apply(lambda x: get_width(x, satoshi_stats))"
   ]
  },
  {
   "cell_type": "code",
   "execution_count": 105,
   "metadata": {
    "colab": {
     "base_uri": "https://localhost:8080/",
     "height": 232
    },
    "colab_type": "code",
    "id": "WKnO_VjZYtn_",
    "outputId": "d80a19f0-2bd3-4c99-9e89-84e06b7bb762"
   },
   "outputs": [
    {
     "data": {
      "image/png": "[encoded data removed]",
      "text/plain": [
       "<Figure size 432x288 with 1 Axes>"
      ]
     },
     "metadata": {},
     "output_type": "display_data"
    }
   ],
   "source": [
    "nx.draw_networkx(graph, pos,\n",
    "  with_labels = False,\n",
    "  alpha = 0.5,\n",
    "  node_size = 100,\n",
    "  node_color = node_colors,\n",
    "  width = edge_widths / 2,\n",
    "  arrowsize = 20)\n",
    "plt.title(\"BTC inputs upstream of pizza purchase address (red)\")\n",
    "plt.axis('off')\n",
    "plt.show()"
   ]
  }
 ],
 "metadata": {
  "colab": {
   "collapsed_sections": [],
   "name": "tracing-the-10-000-btc-pizza.ipynb",
   "provenance": [],
   "version": "0.3.2"
  },
  "kernelspec": {
   "display_name": "Python 3",
   "language": "python",
   "name": "python3"
  },
  "language_info": {
   "codemirror_mode": {
    "name": "ipython",
    "version": 3
   },
   "file_extension": ".py",
   "mimetype": "text/x-python",
   "name": "python",
   "nbconvert_exporter": "python",
   "pygments_lexer": "ipython3",
   "version": "3.5.3"
  }
 },
 "nbformat": 4,
 "nbformat_minor": 2
}
